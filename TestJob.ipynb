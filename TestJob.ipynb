{
  "nbformat": 4,
  "nbformat_minor": 0,
  "metadata": {
    "colab": {
      "name": "TestJob.ipynb",
      "provenance": [],
      "collapsed_sections": [],
      "authorship_tag": "ABX9TyMwsPyi5zLoFGv/TeQSA4XP",
      "include_colab_link": true
    },
    "kernelspec": {
      "name": "python3",
      "display_name": "Python 3"
    }
  },
  "cells": [
    {
      "cell_type": "markdown",
      "metadata": {
        "id": "view-in-github",
        "colab_type": "text"
      },
      "source": [
        "<a href=\"https://colab.research.google.com/github/HardRock4Life/snake/blob/master/TestJob.ipynb\" target=\"_parent\"><img src=\"https://colab.research.google.com/assets/colab-badge.svg\" alt=\"Open In Colab\"/></a>"
      ]
    },
    {
      "cell_type": "code",
      "metadata": {
        "id": "qRR22y8aHH_6"
      },
      "source": [
        "import pandas as pd\n",
        "import numpy as np\n",
        "import matplotlib.pyplot as plt"
      ],
      "execution_count": null,
      "outputs": []
    },
    {
      "cell_type": "markdown",
      "metadata": {
        "id": "G5PxDsNdHuqm"
      },
      "source": [
        "Задание python\n",
        "\n",
        "1.  Написать функцию аппроксимации некоей математической функции, проходящей через координаты, заданных векторами:\n",
        "\t    X = [0, 5, 10, 15, 20, 25, 30, 35, 40, 45, 50, 55, 60, 66]\n",
        "        Y = [4.88, 4.73, 4.66, 4.61, 4.52, 4.35, 4.10, 3.74, 3.28, 2.73, 2.11, 1.45, 0.77, 0]\n",
        "\n",
        "\tФункция аппроксимации выбирается самостоятельно.\n",
        "\tПосле получения функции аппроксимации построить график, содержащий точки заданные векторами X, Y и линию функции аппроксимации.\n",
        "\n",
        "2.  Функцию расчета поместить в пакет approx в модуль approx_func.py, главный исполняемый скрипт main.py поместить на уровень выше.\n",
        "\tПокрыть тестом функцию расчета, поместить тест в файл test_func.py папки unittest.\n",
        "\t\n",
        "  Дерево папок\n",
        "  \n",
        "root\n",
        "\n",
        "|\n",
        "\n",
        "\n",
        "approx\n",
        "\n",
        "\t|\n",
        "\n",
        "\tapprox_func.py\n",
        "\n",
        "unittest\n",
        "\n",
        "\t|\n",
        "\t\n",
        "\ttest_func.py\n",
        "\n",
        "mail.py\n",
        "\n",
        "3. Код приложения выложить на GitLab/GitHub, выслать для ознакомления ссылку на репозитарий.\n",
        "\n",
        "4. Срок 3 дня."
      ]
    },
    {
      "cell_type": "code",
      "metadata": {
        "id": "jSSw9wDtH9KB",
        "outputId": "93c6ed6a-45a1-4be2-8dc2-3fbce5385a23",
        "colab": {
          "base_uri": "https://localhost:8080/",
          "height": 265
        }
      },
      "source": [
        "X = [0, 5, 10, 15, 20, 25, 30, 35, 40, 45, 50, 55, 60, 66]\n",
        "Y = [4.88, 4.73, 4.66, 4.61, 4.52, 4.35, 4.10, 3.74, 3.28, 2.73, 2.11, 1.45, 0.77, 0]\n",
        "\n",
        "plt.plot(X, Y);"
      ],
      "execution_count": null,
      "outputs": [
        {
          "output_type": "display_data",
          "data": {
            "image/png": "[encoded data removed]",
            "text/plain": [
              "<Figure size 432x288 with 1 Axes>"
            ]
          },
          "metadata": {
            "tags": [],
            "needs_background": "light"
          }
        }
      ]
    },
    {
      "cell_type": "code",
      "metadata": {
        "id": "7vbCBdl9IBHt",
        "outputId": "943dda03-ab51-4162-8183-5c158c9808af",
        "colab": {
          "base_uri": "https://localhost:8080/",
          "height": 265
        }
      },
      "source": [
        "x=np.array([0, 5, 10, 15, 20, 25, 30, 35, 40, 45, 50, 55, 60, 66], dtype=float)\n",
        "y=np.array([4.88, 4.73, 4.66, 4.61, 4.52, 4.35, 4.10, 3.74, 3.28, 2.73, 2.11, 1.45, 0.77, 0], dtype=float)\n",
        "\n",
        "def lagranz(x,y,t):\n",
        "    z=0\n",
        "    for j in range(len(y)):\n",
        "        p1=1; p2=1\n",
        "        for i in range(len(x)):\n",
        "            if i==j:\n",
        "                p1=p1*1; p2=p2*1   \n",
        "            else: \n",
        "                p1=p1*(t-x[i])\n",
        "                p2=p2*(x[j]-x[i])\n",
        "        z=z+y[j]*p1/p2\n",
        "    return z\n",
        "\n",
        "xnew=np.linspace(np.min(x),np.max(x), 15)\n",
        "ynew=[lagranz(x,y,i) for i in xnew]\n",
        "\n",
        "plt.plot(x,y,'o', xnew,ynew,'o')\n",
        "plt.grid(True)\n",
        "plt.show()"
      ],
      "execution_count": null,
      "outputs": [
        {
          "output_type": "display_data",
          "data": {
            "image/png": "[encoded data removed]",
            "text/plain": [
              "<Figure size 432x288 with 1 Axes>"
            ]
          },
          "metadata": {
            "tags": [],
            "needs_background": "light"
          }
        }
      ]
    },
    {
      "cell_type": "code",
      "metadata": {
        "id": "dkXVAX5CaV28"
      },
      "source": [
        "import unittest\n",
        "\n",
        "def add(x, y):\n",
        "  return x + y\n",
        "\n",
        "class Test(unittest.TestCase):\n",
        "  \n",
        "  def test_add(self):\n",
        "    result = add(10, 5)\n",
        "    self.assertEqual(result, 15)\n",
        "\n",
        "t = Test()\n",
        "t.test_add()"
      ],
      "execution_count": null,
      "outputs": []
    },
    {
      "cell_type": "code",
      "metadata": {
        "id": "9bcnJVTs250-"
      },
      "source": [
        "class "
      ],
      "execution_count": null,
      "outputs": []
    }
  ]
}